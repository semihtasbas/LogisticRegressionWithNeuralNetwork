{
 "cells": [
  {
   "cell_type": "markdown",
   "metadata": {},
   "source": [
    "# Logistic Regression with Neural Network"
   ]
  },
  {
   "cell_type": "markdown",
   "metadata": {},
   "source": [
    "I implemented logistic regression in this notebook. I wrote everything by hand and used sign data language. Since I used logistic regression, I created a model that classifies only 1s and 0s."
   ]
  },
  {
   "cell_type": "code",
   "execution_count": 1,
   "metadata": {},
   "outputs": [],
   "source": [
    "# İmporting Datasets\n",
    "import numpy as np\n",
    "import matplotlib.pyplot as plt\n",
    "import h5py\n",
    "import scipy\n",
    "from PIL import Image\n",
    "from scipy import ndimage\n",
    "\n",
    "%matplotlib inline"
   ]
  },
  {
   "cell_type": "code",
   "execution_count": 2,
   "metadata": {},
   "outputs": [
    {
     "name": "stdout",
     "output_type": "stream",
     "text": [
      "X shape: (410, 64, 64)\n",
      "Y shape: (410, 1)\n"
     ]
    }
   ],
   "source": [
    "# Seperate dataset as test, train\n",
    "X = np.load('dataset/X.npy')\n",
    "Y = np.load('dataset/Y.npy')\n",
    "\n",
    "# We need to get only zero's and one's\n",
    "X = np.concatenate((X[204:409], X[822:1027] ), axis=0)\n",
    "z = np.zeros(205)\n",
    "o = np.ones(205)\n",
    "Y = np.concatenate((z, o), axis=0).reshape(X.shape[0],1)\n",
    "print(\"X shape:\", X.shape)\n",
    "print(\"Y shape:\", Y.shape)"
   ]
  },
  {
   "cell_type": "code",
   "execution_count": 3,
   "metadata": {},
   "outputs": [],
   "source": [
    "from sklearn.model_selection import train_test_split\n",
    "train_set_x_orig, test_set_x_orig, train_set_y, test_set_y = train_test_split(X, Y, test_size=0.15, random_state=42)"
   ]
  },
  {
   "cell_type": "code",
   "execution_count": 4,
   "metadata": {},
   "outputs": [
    {
     "name": "stdout",
     "output_type": "stream",
     "text": [
      "X train flatten:  (348, 4096)\n",
      "X test flatten:  (62, 4096)\n"
     ]
    }
   ],
   "source": [
    "#Flatten Train and Test Data\n",
    "train_set_x_flatten = train_set_x_orig.reshape(train_set_x_orig.shape[0],-1)\n",
    "test_set_x_flatten = test_set_x_orig.reshape(test_set_x_orig.shape[0],-1)\n",
    "\n",
    "print(\"X train flatten: \",train_set_x_flatten.shape)\n",
    "print(\"X test flatten: \",test_set_x_flatten.shape)"
   ]
  },
  {
   "cell_type": "code",
   "execution_count": 5,
   "metadata": {},
   "outputs": [
    {
     "name": "stdout",
     "output_type": "stream",
     "text": [
      "train_set_x shape: (4096, 348)\n",
      "test_set_x shape: (4096, 62)\n",
      "train_set_y shape: (1, 348)\n",
      "test_set_y shape: (1, 62)\n"
     ]
    }
   ],
   "source": [
    "train_set_x = train_set_x_flatten.T\n",
    "test_set_x = test_set_x_flatten.T\n",
    "train_set_y = train_set_y.T\n",
    "test_set_y = test_set_y.T\n",
    "print (\"train_set_x shape: \" + str(train_set_x.shape))\n",
    "print (\"test_set_x shape: \" + str(test_set_x.shape))\n",
    "print (\"train_set_y shape: \" + str(train_set_y.shape))\n",
    "print (\"test_set_y shape: \" + str(test_set_y.shape))"
   ]
  },
  {
   "cell_type": "code",
   "execution_count": 6,
   "metadata": {},
   "outputs": [],
   "source": [
    "# Sigmoid Function\n",
    "def sigmoid(z):\n",
    "    \n",
    "    a = 1/(1+np.exp(-1*z))\n",
    "    \n",
    "    return a"
   ]
  },
  {
   "cell_type": "code",
   "execution_count": 7,
   "metadata": {},
   "outputs": [],
   "source": [
    "# Initializing weights and bias\n",
    "def initializing_parameters(dimension):\n",
    "    \n",
    "    w = np.full((dimension,1), 0.01)\n",
    "    b = 0\n",
    "    \n",
    "    return w,b"
   ]
  },
  {
   "cell_type": "code",
   "execution_count": 8,
   "metadata": {},
   "outputs": [],
   "source": [
    "# Forward and Backward propagation\n",
    "def forward_and_backward(w, b, X, Y):\n",
    "    \n",
    "    m = X.shape[1] #number of example\n",
    "    # FORWARD\n",
    "    # Calculating A and cost  \n",
    "    A = sigmoid(np.dot(w.T,X)+b)                                    \n",
    "    cost = (-1/m) * np.sum(Y*np.log(A)+((1-Y)*np.log(1-A)))\n",
    "    \n",
    "    # BACKWARD PROPAGATION\n",
    "    # Calculating derivative of dw and db\n",
    "    dw = (1/m)*(np.dot(X,np.subtract(A,Y).T))\n",
    "    db = (1/m)* np.sum(A-Y)\n",
    "    \n",
    "    gradients = {\"dw\": dw,\n",
    "                 \"db\": db}\n",
    "    \n",
    "    return gradients,cost"
   ]
  },
  {
   "cell_type": "code",
   "execution_count": 9,
   "metadata": {},
   "outputs": [],
   "source": [
    "# Optimizing parameter with Gradient Descent\n",
    "def update(w, b, X, Y, num_iterations, learning_rate, print_cost = False):\n",
    "    costs = []\n",
    "    \n",
    "    for i in range(num_iterations):\n",
    "        \n",
    "        # Basic Gradient descent\n",
    "        gradients, cost = forward_and_backward(w, b, X, Y)\n",
    "        \n",
    "        dw = gradients[\"dw\"]\n",
    "        db = gradients[\"db\"]\n",
    "        \n",
    "        w = w - learning_rate * dw\n",
    "        b = b - learning_rate * db\n",
    "        \n",
    "        if i % 10 == 0:\n",
    "            costs.append(cost)\n",
    "            print (\"Cost after iteration %i: %f\" %(i, cost))\n",
    "    \n",
    "    parameters = {\"w\": w,\n",
    "                  \"b\": b}\n",
    "    \n",
    "    gradients = {\"dw\": dw,\n",
    "                 \"db\": db}\n",
    "    \n",
    "    return parameters, gradients, costs"
   ]
  },
  {
   "cell_type": "code",
   "execution_count": 10,
   "metadata": {},
   "outputs": [],
   "source": [
    "# Prediction\n",
    "def predict(w, b, X):\n",
    "\n",
    "    Y_prediction = np.zeros((1,X.shape[1]))\n",
    "    A = sigmoid(np.dot(w.T,X) + b)\n",
    "    \n",
    "    for i in range(A.shape[1]):\n",
    "        \n",
    "        if A[0,i] > 0.5:\n",
    "            Y_prediction[0,i] = 1\n",
    "        else:\n",
    "            Y_prediction[0,i] = 0\n",
    "    \n",
    "    return Y_prediction"
   ]
  },
  {
   "cell_type": "code",
   "execution_count": 11,
   "metadata": {},
   "outputs": [],
   "source": [
    "# Merging functions in a model\n",
    "def model(X_train, Y_train, X_test, Y_test, num_iterations = 2000, learning_rate = 0.5):\n",
    "    \n",
    "    # initializing parameters \n",
    "    w, b = initializing_parameters(X_train.shape[0])\n",
    "\n",
    "    # updating parameters \n",
    "    parameters, grads, costs = update(w, b, X_train, Y_train, num_iterations, learning_rate)\n",
    "    \n",
    "    # Parameters and Bias\n",
    "    w = parameters[\"w\"]\n",
    "    b = parameters[\"b\"]\n",
    "    \n",
    "    # Predicting test/train set examples \n",
    "    Y_prediction_test = predict(w, b, X_test)\n",
    "    Y_prediction_train = predict(w, b, X_train)\n",
    "\n",
    "    print(\"train accuracy: {} %\".format(100 - np.mean(np.abs(Y_prediction_train - Y_train)) * 100))\n",
    "    print(\"test accuracy: {} %\".format(100 - np.mean(np.abs(Y_prediction_test - Y_test)) * 100))\n",
    "    \n",
    "    d = {\"costs\": costs,\n",
    "         \"Y_prediction_test\": Y_prediction_test, \n",
    "         \"Y_prediction_train\" : Y_prediction_train, \n",
    "         \"w\" : w, \n",
    "         \"b\" : b,\n",
    "         \"learning_rate\" : learning_rate,\n",
    "         \"num_iterations\": num_iterations}\n",
    "    \n",
    "    return d"
   ]
  },
  {
   "cell_type": "code",
   "execution_count": 12,
   "metadata": {},
   "outputs": [
    {
     "name": "stdout",
     "output_type": "stream",
     "text": [
      "Cost after iteration 0: 14.014222\n",
      "Cost after iteration 10: 2.544689\n",
      "Cost after iteration 20: 2.577950\n",
      "Cost after iteration 30: 2.397999\n",
      "Cost after iteration 40: 2.185019\n",
      "Cost after iteration 50: 1.968348\n",
      "Cost after iteration 60: 1.754195\n",
      "Cost after iteration 70: 1.535079\n",
      "Cost after iteration 80: 1.297567\n",
      "Cost after iteration 90: 1.031919\n",
      "Cost after iteration 100: 0.737019\n",
      "Cost after iteration 110: 0.441355\n",
      "Cost after iteration 120: 0.252278\n",
      "Cost after iteration 130: 0.205168\n",
      "Cost after iteration 140: 0.196168\n",
      "Cost after iteration 150: 0.190936\n",
      "Cost after iteration 160: 0.186285\n",
      "Cost after iteration 170: 0.182006\n",
      "Cost after iteration 180: 0.178052\n",
      "Cost after iteration 190: 0.174389\n",
      "Cost after iteration 200: 0.170984\n",
      "Cost after iteration 210: 0.167809\n",
      "Cost after iteration 220: 0.164840\n",
      "Cost after iteration 230: 0.162056\n",
      "Cost after iteration 240: 0.159437\n",
      "Cost after iteration 250: 0.156967\n",
      "Cost after iteration 260: 0.154631\n",
      "Cost after iteration 270: 0.152417\n",
      "Cost after iteration 280: 0.150312\n",
      "Cost after iteration 290: 0.148307\n",
      "train accuracy: 96.26436781609195 %\n",
      "test accuracy: 95.16129032258064 %\n"
     ]
    }
   ],
   "source": [
    "d = model(train_set_x, train_set_y, test_set_x, test_set_y, num_iterations = 300, learning_rate = 0.01)"
   ]
  },
  {
   "cell_type": "code",
   "execution_count": 13,
   "metadata": {},
   "outputs": [
    {
     "data": {
      "image/png": "[encoded data removed]",
      "text/plain": [
       "<Figure size 432x288 with 1 Axes>"
      ]
     },
     "metadata": {
      "needs_background": "light"
     },
     "output_type": "display_data"
    }
   ],
   "source": [
    "costs = np.squeeze(d['costs'])\n",
    "plt.plot(costs)\n",
    "plt.ylabel('cost')\n",
    "plt.xlabel('iterations (per hundreds)')\n",
    "plt.title(\"Learning rate =\" + str(d[\"learning_rate\"]))\n",
    "plt.show()"
   ]
  },
  {
   "cell_type": "code",
   "execution_count": null,
   "metadata": {},
   "outputs": [],
   "source": []
  }
 ],
 "metadata": {
  "kernelspec": {
   "display_name": "Python 3",
   "language": "python",
   "name": "python3"
  },
  "language_info": {
   "codemirror_mode": {
    "name": "ipython",
    "version": 3
   },
   "file_extension": ".py",
   "mimetype": "text/x-python",
   "name": "python",
   "nbconvert_exporter": "python",
   "pygments_lexer": "ipython3",
   "version": "3.7.4"
  }
 },
 "nbformat": 4,
 "nbformat_minor": 2
}
